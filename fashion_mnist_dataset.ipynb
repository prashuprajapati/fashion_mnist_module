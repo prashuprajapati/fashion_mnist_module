{
  "nbformat": 4,
  "nbformat_minor": 0,
  "metadata": {
    "colab": {
      "provenance": [],
      "authorship_tag": "ABX9TyPkQubx8rmnzbX0TGByhvBq",
      "include_colab_link": true
    },
    "kernelspec": {
      "name": "python3",
      "display_name": "Python 3"
    },
    "language_info": {
      "name": "python"
    }
  },
  "cells": [
    {
      "cell_type": "markdown",
      "metadata": {
        "id": "view-in-github",
        "colab_type": "text"
      },
      "source": [
        "<a href=\"https://colab.research.google.com/github/prashuprajapati/fashion_mnist_module/blob/main/fashion_mnist_dataset.ipynb\" target=\"_parent\"><img src=\"https://colab.research.google.com/assets/colab-badge.svg\" alt=\"Open In Colab\"/></a>"
      ]
    },
    {
      "cell_type": "markdown",
      "source": [
        "# create a model to predict fashion_image ==> (T-shirt/top ,Trouser ,Pullover ,Dress ,Coat ,Sandal ,Shirt ,Sneaker ,Bag ,Ankleboot)\n",
        "\n",
        "# it is content 60,000 images with image_size(28,28) for training\n",
        "# it is content 10,000 images for testing \n",
        "\n",
        "\n",
        "---\n",
        "\n",
        "# Fashion-MNIST(classification of 10 fashion categories)"
      ],
      "metadata": {
        "id": "X1JeaLWUWOuN"
      }
    },
    {
      "cell_type": "code",
      "execution_count": null,
      "metadata": {
        "colab": {
          "base_uri": "https://localhost:8080/"
        },
        "id": "0BpBEhGwEfhM",
        "outputId": "0e263d46-3efe-4c6e-abad-209012312ec3"
      },
      "outputs": [
        {
          "output_type": "execute_result",
          "data": {
            "text/plain": [
              "(60000, 28, 28)"
            ]
          },
          "metadata": {},
          "execution_count": 1
        }
      ],
      "source": [
        "from keras.datasets import fashion_mnist\n",
        "(xtrain,ytrain),(xtest,ytest)=fashion_mnist.load_data()\n",
        "#xtrain.shape\n",
        "xtrain.shape"
      ]
    },
    {
      "cell_type": "code",
      "source": [
        "xtrain1 = xtrain.reshape((xtrain.shape[0], 28, 28, 1))\n",
        "xtest1 = xtest.reshape((xtest.shape[0], 28, 28, 1))"
      ],
      "metadata": {
        "id": "UUu_sek24WmE"
      },
      "execution_count": null,
      "outputs": []
    },
    {
      "cell_type": "code",
      "source": [
        "train_norm = xtrain1.astype('float32')\n",
        "test_norm = xtest1.astype('float32')\n",
        "# normalize to range 0-1\n",
        "train_norm = train_norm / 255.0\n",
        "test_norm = test_norm / 255.0\n",
        "train_norm.shape"
      ],
      "metadata": {
        "colab": {
          "base_uri": "https://localhost:8080/"
        },
        "id": "AeLTdkFL406Y",
        "outputId": "06fd9ca0-bf47-4d8d-8103-ce4a36db4c14"
      },
      "execution_count": null,
      "outputs": [
        {
          "output_type": "execute_result",
          "data": {
            "text/plain": [
              "(60000, 28, 28, 1)"
            ]
          },
          "metadata": {},
          "execution_count": 20
        }
      ]
    },
    {
      "cell_type": "code",
      "source": [
        "from keras.models import Sequential\n",
        "from keras.layers import Dense,Flatten,Dropout\n",
        "model=Sequential()\n",
        "model.add(Flatten(input_shape=(28,28,1)))\n",
        "model.add(Dense(1050,activation='relu'))\n",
        "model.add(Dense(1050,activation='relu'))\n",
        "#model.add(Dropout(0.2))\n",
        "model.add(Dense(10,activation='softmax'))\n",
        "model.compile(optimizer='adam',loss='sparse_categorical_crossentropy',metrics=['accuracy'])"
      ],
      "metadata": {
        "id": "OTjtWzg3HO0Z"
      },
      "execution_count": null,
      "outputs": []
    },
    {
      "cell_type": "code",
      "source": [
        "model.fit(train_norm,ytrain,epochs=10)"
      ],
      "metadata": {
        "colab": {
          "base_uri": "https://localhost:8080/"
        },
        "id": "hye9GgqBIG7Y",
        "outputId": "6ce8d437-9142-4101-878d-e8482048a44b"
      },
      "execution_count": null,
      "outputs": [
        {
          "output_type": "stream",
          "name": "stdout",
          "text": [
            "Epoch 1/10\n",
            "1875/1875 [==============================] - 33s 17ms/step - loss: 0.4692 - accuracy: 0.8286\n",
            "Epoch 2/10\n",
            "1875/1875 [==============================] - 34s 18ms/step - loss: 0.3568 - accuracy: 0.8698\n",
            "Epoch 3/10\n",
            "1875/1875 [==============================] - 34s 18ms/step - loss: 0.3210 - accuracy: 0.8819\n",
            "Epoch 4/10\n",
            "1875/1875 [==============================] - 33s 18ms/step - loss: 0.2948 - accuracy: 0.8897\n",
            "Epoch 5/10\n",
            "1875/1875 [==============================] - 33s 17ms/step - loss: 0.2773 - accuracy: 0.8963\n",
            "Epoch 6/10\n",
            "1875/1875 [==============================] - 33s 18ms/step - loss: 0.2624 - accuracy: 0.9013\n",
            "Epoch 7/10\n",
            "1875/1875 [==============================] - 33s 18ms/step - loss: 0.2479 - accuracy: 0.9066\n",
            "Epoch 8/10\n",
            "1875/1875 [==============================] - 33s 18ms/step - loss: 0.2417 - accuracy: 0.9086\n",
            "Epoch 9/10\n",
            "1875/1875 [==============================] - 33s 18ms/step - loss: 0.2262 - accuracy: 0.9130\n",
            "Epoch 10/10\n",
            "1875/1875 [==============================] - 35s 18ms/step - loss: 0.2173 - accuracy: 0.9172\n"
          ]
        },
        {
          "output_type": "execute_result",
          "data": {
            "text/plain": [
              "<keras.callbacks.History at 0x7fc56f822220>"
            ]
          },
          "metadata": {},
          "execution_count": 5
        }
      ]
    },
    {
      "cell_type": "markdown",
      "source": [],
      "metadata": {
        "id": "7p4gq57SWJ9J"
      }
    },
    {
      "cell_type": "code",
      "source": [
        "import numpy as np\n",
        "a=model.predict(test_norm)"
      ],
      "metadata": {
        "colab": {
          "base_uri": "https://localhost:8080/"
        },
        "id": "bZ-xk3yNLffv",
        "outputId": "9d48f86b-3e52-411b-bf3c-369141722588"
      },
      "execution_count": null,
      "outputs": [
        {
          "output_type": "stream",
          "name": "stdout",
          "text": [
            "313/313 [==============================] - 2s 5ms/step\n"
          ]
        }
      ]
    },
    {
      "cell_type": "markdown",
      "source": [],
      "metadata": {
        "id": "nmxe7KMH3IJ5"
      }
    },
    {
      "cell_type": "code",
      "source": [
        "import random as rd\n",
        "import matplotlib.pyplot as plt\n",
        "index=rd.randint(0,len(test_norm))\n",
        "b=a[index] # return the list of numeric values \n",
        "j=np.argmax(b)\n",
        "b=[0,0,0,0,0,0,0,0,0,0]\n",
        "b[j]=1\n",
        "feature=['0-T-shirt/top','1-Trouser','2-Pullover','3-Dress','4-Coat','5-Sandal','6-Shirt','7-Sneaker','8-Bag','9-Ankleboot']\n",
        "for i in feature:\n",
        "  print(i,end=' ')\n",
        "print('\\n')\n",
        "print(b)\n",
        "plt.imshow(xtest[index])"
      ],
      "metadata": {
        "colab": {
          "base_uri": "https://localhost:8080/",
          "height": 334
        },
        "id": "EilLJTbVPKVT",
        "outputId": "ee1304c6-a6fa-4958-d94a-1422a729e7a7"
      },
      "execution_count": null,
      "outputs": [
        {
          "output_type": "stream",
          "name": "stdout",
          "text": [
            "0-T-shirt/top 1-Trouser 2-Pullover 3-Dress 4-Coat 5-Sandal 6-Shirt 7-Sneaker 8-Bag 9-Ankleboot \n",
            "\n",
            "[0, 0, 0, 0, 0, 0, 0, 0, 1, 0]\n"
          ]
        },
        {
          "output_type": "execute_result",
          "data": {
            "text/plain": [
              "<matplotlib.image.AxesImage at 0x7fc56cab7fa0>"
            ]
          },
          "metadata": {},
          "execution_count": 19
        },
        {
          "output_type": "display_data",
          "data": {
            "text/plain": [
              "<Figure size 432x288 with 1 Axes>"
            ],
            "image/png": "[encoded data removed]"
          },
          "metadata": {
            "needs_background": "light"
          }
        }
      ]
    },
    {
      "cell_type": "code",
      "source": [],
      "metadata": {
        "id": "Jzvk2RzJR05L"
      },
      "execution_count": null,
      "outputs": []
    }
  ]
}